{
  "nbformat": 4,
  "nbformat_minor": 0,
  "metadata": {
    "colab": {
      "name": "Untitled2.ipynb",
      "provenance": [],
      "authorship_tag": "ABX9TyMVx/NBn9Ok8ItFqcGSxvbv",
      "include_colab_link": true
    },
    "kernelspec": {
      "name": "python3",
      "display_name": "Python 3"
    },
    "language_info": {
      "name": "python"
    }
  },
  "cells": [
    {
      "cell_type": "markdown",
      "metadata": {
        "id": "view-in-github",
        "colab_type": "text"
      },
      "source": [
        "<a href=\"https://colab.research.google.com/github/siva12-could/Basic-ML/blob/main/my%20programs.ipynb\" target=\"_parent\"><img src=\"https://colab.research.google.com/assets/colab-badge.svg\" alt=\"Open In Colab\"/></a>"
      ]
    },
    {
      "cell_type": "markdown",
      "metadata": {
        "id": "tDc9QRqFEHWR"
      },
      "source": [
        "Given an integer n,find the sum of all odd numbers from 1 to n.(including both)"
      ]
    },
    {
      "cell_type": "markdown",
      "metadata": {
        "id": "yTiRTcmIEbmI"
      },
      "source": [
        "**Algorithm**\n",
        "\n",
        "**start**\n",
        "\n",
        "**read n**\n",
        "\n",
        "**sum initial as zero**\n",
        "\n",
        "**Taking range from 1 to n+1** \n",
        "\n",
        "**write sum**\n",
        "\n",
        "**stop**"
      ]
    },
    {
      "cell_type": "code",
      "metadata": {
        "colab": {
          "base_uri": "https://localhost:8080/"
        },
        "id": "CBj_-ZgLFUph",
        "outputId": "92362229-03a1-4d49-9c6f-71852e648b27"
      },
      "source": [
        "n=int(input(\"Enter a number:\"))\n",
        "sum=0\n",
        "for i in range(1,n+1):\n",
        "  if(i%2!=0):\n",
        "    sum+=i\n",
        "print(\"sum of odd numbers:\",sum)"
      ],
      "execution_count": 11,
      "outputs": [
        {
          "output_type": "stream",
          "text": [
            "Enter a number:10\n",
            "sum of odd numbers: 25\n"
          ],
          "name": "stdout"
        }
      ]
    },
    {
      "cell_type": "markdown",
      "metadata": {
        "id": "9vzK2Y3XGqTG"
      },
      "source": [
        "Find the sum of all elements till user enters -1"
      ]
    },
    {
      "cell_type": "markdown",
      "metadata": {
        "id": "7Y-E3AbaHhME"
      },
      "source": [
        "***Algorithm***\n",
        "     \n",
        "**start**\n",
        "\n",
        "**initial sum zero**\n",
        "\n",
        "**Using while true functions**\n",
        "\n",
        "**Given input user -1 and then break**\n",
        "\n",
        "**Write their sum**\n",
        "\n",
        "**stop**"
      ]
    },
    {
      "cell_type": "code",
      "metadata": {
        "colab": {
          "base_uri": "https://localhost:8080/"
        },
        "id": "4SdtFUGcJDJg",
        "outputId": "b68a1028-b1d0-4495-fe51-9046c6fdc302"
      },
      "source": [
        "sum=0\n",
        "while True:\n",
        "  b=int(input())\n",
        "  if b!=-1:\n",
        "    sum+=b\n",
        "  else:\n",
        "    break\n",
        "print(\"sum of enter numbers:\",sum)"
      ],
      "execution_count": 10,
      "outputs": [
        {
          "output_type": "stream",
          "text": [
            "2\n",
            "3\n",
            "-1\n",
            "sum of enter numbers: 5\n"
          ],
          "name": "stdout"
        }
      ]
    },
    {
      "cell_type": "markdown",
      "metadata": {
        "id": "kRiwvnzvKF6w"
      },
      "source": [
        "Read 10 numbers from the user and find the minimum number."
      ]
    },
    {
      "cell_type": "markdown",
      "metadata": {
        "id": "5Y5T_5wIKi3m"
      },
      "source": [
        "**Algorithm**\n",
        "\n",
        "**start**\n",
        "\n",
        "**range n+1**\n",
        "\n",
        "**read ele**\n",
        "\n",
        "**taken empty list**\n",
        "\n",
        "**using append method to append elements into empty list**\n",
        "\n",
        "**in element writr minimum list**\n",
        "\n",
        "**stop**"
      ]
    },
    {
      "cell_type": "code",
      "metadata": {
        "colab": {
          "base_uri": "https://localhost:8080/"
        },
        "id": "o1BL1thiLxva",
        "outputId": "70feb991-dfa5-4679-b89a-068a86886f3b"
      },
      "source": [
        "lst=[]\n",
        "for i in range(10):\n",
        "  ele=int(input())\n",
        "  lst.append(ele)\n",
        "ele=min(lst)\n",
        "print(\"minimum number:\",ele)"
      ],
      "execution_count": 9,
      "outputs": [
        {
          "output_type": "stream",
          "text": [
            "1\n",
            "2\n",
            "3\n",
            "4\n",
            "5\n",
            "7\n",
            "6\n",
            "8\n",
            "9\n",
            "10\n",
            "minimum number: 1\n"
          ],
          "name": "stdout"
        }
      ]
    }
  ]
}